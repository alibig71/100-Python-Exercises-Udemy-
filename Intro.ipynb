{
  "nbformat": 4,
  "nbformat_minor": 0,
  "metadata": {
    "colab": {
      "name": "Intro.ipynb",
      "provenance": [],
      "collapsed_sections": [],
      "authorship_tag": "ABX9TyM9gknFDKdmJ6IZKs9WHEBE",
      "include_colab_link": true
    },
    "kernelspec": {
      "name": "python3",
      "display_name": "Python 3"
    },
    "language_info": {
      "name": "python"
    }
  },
  "cells": [
    {
      "cell_type": "markdown",
      "metadata": {
        "id": "view-in-github",
        "colab_type": "text"
      },
      "source": [
        "<a href=\"https://colab.research.google.com/github/alibig71/100-Python-Exercises-Udemy-/blob/main/Intro.ipynb\" target=\"_parent\"><img src=\"https://colab.research.google.com/assets/colab-badge.svg\" alt=\"Open In Colab\"/></a>"
      ]
    },
    {
      "cell_type": "code",
      "execution_count": null,
      "metadata": {
        "id": "x7nVQjq2E7Y_",
        "colab": {
          "base_uri": "https://localhost:8080/"
        },
        "outputId": "806b0d7a-921a-44ee-b1b3-354da664f66a"
      },
      "outputs": [
        {
          "output_type": "stream",
          "name": "stdout",
          "text": [
            "Hello World *___*\n"
          ]
        }
      ],
      "source": [
        "print(\"Hello World *___*\")"
      ]
    },
    {
      "cell_type": "markdown",
      "source": [
        "#This is the first try to show how Google Colabe and Github are connected\n"
      ],
      "metadata": {
        "id": "x3HWWK8PJQz5"
      }
    },
    {
      "cell_type": "code",
      "source": [
        ""
      ],
      "metadata": {
        "id": "IuEP9Qp1Jbk8"
      },
      "execution_count": null,
      "outputs": []
    }
  ]
}