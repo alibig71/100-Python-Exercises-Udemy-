{
  "nbformat": 4,
  "nbformat_minor": 0,
  "metadata": {
    "colab": {
      "name": "Intro.ipynb",
      "provenance": [],
      "collapsed_sections": [],
      "authorship_tag": "ABX9TyPM+9D1XGo+isCvVApWAIOV",
      "include_colab_link": true
    },
    "kernelspec": {
      "name": "python3",
      "display_name": "Python 3"
    },
    "language_info": {
      "name": "python"
    }
  },
  "cells": [
    {
      "cell_type": "markdown",
      "metadata": {
        "id": "view-in-github",
        "colab_type": "text"
      },
      "source": [
        "<a href=\"https://colab.research.google.com/github/alibig71/100-Python-Exercises-Udemy-/blob/main/Intro.ipynb\" target=\"_parent\"><img src=\"https://colab.research.google.com/assets/colab-badge.svg\" alt=\"Open In Colab\"/></a>"
      ]
    },
    {
      "cell_type": "code",
      "execution_count": null,
      "metadata": {
        "id": "x7nVQjq2E7Y_",
        "colab": {
          "base_uri": "https://localhost:8080/"
        },
        "outputId": "806b0d7a-921a-44ee-b1b3-354da664f66a"
      },
      "outputs": [
        {
          "output_type": "stream",
          "name": "stdout",
          "text": [
            "Hello World *___*\n"
          ]
        }
      ],
      "source": [
        "print(\"Hello World *___*\")"
      ]
    },
    {
      "cell_type": "markdown",
      "source": [
        "#This is the first try to show how Google Colabe and Github are connected\n"
      ],
      "metadata": {
        "id": "x3HWWK8PJQz5"
      }
    },
    {
      "cell_type": "code",
      "source": [
        "print(\"let's check the saving\")"
      ],
      "metadata": {
        "id": "IuEP9Qp1Jbk8"
      },
      "execution_count": null,
      "outputs": []
    },
    {
      "cell_type": "markdown",
      "source": [
        ""
      ],
      "metadata": {
        "id": "dOuduAO9Lbb1"
      }
    },
    {
      "cell_type": "markdown",
      "source": [
        "\n",
        "##    Here we will show some variable definition \n"
      ],
      "metadata": {
        "id": "xx3SFlkTLeqI"
      }
    },
    {
      "cell_type": "markdown",
      "source": [
        "### Section 1: Varaibles "
      ],
      "metadata": {
        "id": "S3SkauXoMk98"
      }
    },
    {
      "cell_type": "code",
      "source": [
        "revenue = 10000\n",
        "tax = 0.19 \n",
        "Income = revenue * tax\n",
        "Income \n"
      ],
      "metadata": {
        "colab": {
          "base_uri": "https://localhost:8080/"
        },
        "id": "paMrEt3QLxDD",
        "outputId": "9a8d4f17-75e7-47eb-cf67-0e5a02fff7ec"
      },
      "execution_count": 6,
      "outputs": [
        {
          "output_type": "execute_result",
          "data": {
            "text/plain": [
              "1900.0"
            ]
          },
          "metadata": {},
          "execution_count": 6
        }
      ]
    }
  ]
}